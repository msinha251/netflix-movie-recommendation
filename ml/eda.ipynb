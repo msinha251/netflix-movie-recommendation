{
 "cells": [
  {
   "cell_type": "code",
   "execution_count": 3,
   "metadata": {},
   "outputs": [],
   "source": [
    "import pandas as pd\n",
    "import numpy as np\n",
    "import matplotlib.pyplot as plt\n",
    "import seaborn as sns\n",
    "from pandas_profiling import ProfileReport \n",
    "import os\n",
    "import sys\n",
    "import warnings\n",
    "from scripts.data import load_data\n",
    "warnings.filterwarnings('ignore')\n",
    "%matplotlib inline"
   ]
  },
  {
   "cell_type": "code",
   "execution_count": null,
   "metadata": {},
   "outputs": [],
   "source": [
    "#CREATE README FILE\n"
   ]
  },
  {
   "cell_type": "code",
   "execution_count": null,
   "metadata": {},
   "outputs": [],
   "source": []
  },
  {
   "cell_type": "code",
   "execution_count": 9,
   "metadata": {},
   "outputs": [
    {
     "name": "stderr",
     "output_type": "stream",
     "text": [
      "10/21/2022 09:54:36 AM Loading movie_titles...\n",
      "10/21/2022 09:54:36 AM Generating list of combined_data file paths...\n",
      "10/21/2022 09:54:36 AM Creating movie_ratings dataframe...\n",
      "10/21/2022 09:54:36 AM Loading only 1000 rows from ../data/combined_data_2.txt\n",
      "10/21/2022 09:54:42 AM Loading only 1000 rows from ../data/combined_data_3.txt\n",
      "10/21/2022 09:54:46 AM Loading only 1000 rows from ../data/combined_data_1.txt\n",
      "10/21/2022 09:54:50 AM Loading only 1000 rows from ../data/combined_data_4.txt\n",
      "10/21/2022 09:54:54 AM Converting data types...\n",
      "10/21/2022 09:54:54 AM Merging movie_ratings with movie_titles...\n",
      "10/21/2022 09:54:54 AM Done!\n"
     ]
    }
   ],
   "source": [
    "# load data:\n",
    "movie_ratings, movie_titles = load_data(data_path='../data/', n_rows=1000)\n"
   ]
  },
  {
   "cell_type": "code",
   "execution_count": 11,
   "metadata": {},
   "outputs": [
    {
     "data": {
      "text/html": [
       "<div>\n",
       "<style scoped>\n",
       "    .dataframe tbody tr th:only-of-type {\n",
       "        vertical-align: middle;\n",
       "    }\n",
       "\n",
       "    .dataframe tbody tr th {\n",
       "        vertical-align: top;\n",
       "    }\n",
       "\n",
       "    .dataframe thead th {\n",
       "        text-align: right;\n",
       "    }\n",
       "</style>\n",
       "<table border=\"1\" class=\"dataframe\">\n",
       "  <thead>\n",
       "    <tr style=\"text-align: right;\">\n",
       "      <th></th>\n",
       "      <th>MovieID</th>\n",
       "      <th>YearOfRelease</th>\n",
       "      <th>Title</th>\n",
       "    </tr>\n",
       "  </thead>\n",
       "  <tbody>\n",
       "    <tr>\n",
       "      <th>0</th>\n",
       "      <td>1</td>\n",
       "      <td>2003.0</td>\n",
       "      <td>Dinosaur Planet</td>\n",
       "    </tr>\n",
       "    <tr>\n",
       "      <th>1</th>\n",
       "      <td>2</td>\n",
       "      <td>2004.0</td>\n",
       "      <td>Isle of Man TT 2004 Review</td>\n",
       "    </tr>\n",
       "    <tr>\n",
       "      <th>2</th>\n",
       "      <td>3</td>\n",
       "      <td>1997.0</td>\n",
       "      <td>Character</td>\n",
       "    </tr>\n",
       "    <tr>\n",
       "      <th>3</th>\n",
       "      <td>4</td>\n",
       "      <td>1994.0</td>\n",
       "      <td>Paula Abdul's Get Up &amp; Dance</td>\n",
       "    </tr>\n",
       "    <tr>\n",
       "      <th>4</th>\n",
       "      <td>5</td>\n",
       "      <td>2004.0</td>\n",
       "      <td>The Rise and Fall of ECW</td>\n",
       "    </tr>\n",
       "  </tbody>\n",
       "</table>\n",
       "</div>"
      ],
      "text/plain": [
       "   MovieID  YearOfRelease                         Title\n",
       "0        1         2003.0               Dinosaur Planet\n",
       "1        2         2004.0    Isle of Man TT 2004 Review\n",
       "2        3         1997.0                     Character\n",
       "3        4         1994.0  Paula Abdul's Get Up & Dance\n",
       "4        5         2004.0      The Rise and Fall of ECW"
      ]
     },
     "execution_count": 11,
     "metadata": {},
     "output_type": "execute_result"
    }
   ],
   "source": [
    "movie_titles.head()"
   ]
  },
  {
   "cell_type": "code",
   "execution_count": null,
   "metadata": {},
   "outputs": [],
   "source": []
  }
 ],
 "metadata": {
  "kernelspec": {
   "display_name": "Python 3.9.15 ('netflix-movie-recommendation-go7eMEQS')",
   "language": "python",
   "name": "python3"
  },
  "language_info": {
   "codemirror_mode": {
    "name": "ipython",
    "version": 3
   },
   "file_extension": ".py",
   "mimetype": "text/x-python",
   "name": "python",
   "nbconvert_exporter": "python",
   "pygments_lexer": "ipython3",
   "version": "3.9.15"
  },
  "orig_nbformat": 4,
  "vscode": {
   "interpreter": {
    "hash": "7259ba005a2420cf5c67db6e1f6b2daa47807fba57c2a0998d86f8605ff3d3e1"
   }
  }
 },
 "nbformat": 4,
 "nbformat_minor": 2
}
